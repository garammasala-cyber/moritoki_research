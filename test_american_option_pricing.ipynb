{
 "cells": [
  {
   "cell_type": "code",
   "execution_count": 1,
   "metadata": {},
   "outputs": [],
   "source": [
    "# パッケージとかパラメータとかのインストール\n",
    "import math\n",
    "import numpy as np\n",
    "import matplotlib.pyplot as plt\n",
    "import pandas as pd\n",
    "\n",
    "import sys\n",
    "sys.setrecursionlimit(100000)\n",
    "\n",
    "import parameter\n",
    "import discrete_OU_model_generator\n",
    "\n",
    "e = math.e"
   ]
  },
  {
   "cell_type": "code",
   "execution_count": 2,
   "metadata": {},
   "outputs": [],
   "source": [
    "p = discrete_OU_model_generator.up_probability\n",
    "Delta = discrete_OU_model_generator.Delta"
   ]
  },
  {
   "cell_type": "code",
   "execution_count": 3,
   "metadata": {},
   "outputs": [],
   "source": [
    "def american_option_price(n=100, time=0.01, T=1, alpha=1.1, sigma=1.2, x=0.8, K=0.2, r=0.03):\n",
    "    price_functions = []\n",
    "    \n",
    "    def Phi(x=0.8):\n",
    "        return max(0, x-K)\n",
    "    price_functions.append(Phi)\n",
    "\n",
    "    delta = Delta(n, T, sigma)\n",
    "\n",
    "    j = int((T - time) * n / T)\n",
    "\n",
    "    for i in range(1, j):\n",
    "        def price_function(x):\n",
    "            x_plus = x + delta\n",
    "            x_minus = x - delta\n",
    "            backward = {p(alpha, x) * price_functions[i-1](x_plus) + (1 - p(alpha, x)) * price_functions[i-1](x_minus)} / (1 + r)\n",
    "            return max(backward, Phi(x))\n",
    "        \n",
    "        price_functions.append(price_function)\n",
    "\n",
    "    return price_functions[j](x)"
   ]
  },
  {
   "cell_type": "code",
   "execution_count": 4,
   "metadata": {},
   "outputs": [
    {
     "name": "stdout",
     "output_type": "stream",
     "text": [
      "{}\n"
     ]
    }
   ],
   "source": [
    "d = {}\n",
    "print(d)"
   ]
  },
  {
   "cell_type": "code",
   "execution_count": 5,
   "metadata": {},
   "outputs": [],
   "source": [
    "def american_option_price2(n=100, time=0.01, T=1, alpha=1.1, sigma=1.2, x=0.8, K=0.2, r=0.03):   \n",
    "    delta = Delta(n, T, sigma)\n",
    "    dt = T/n\n",
    "    x_plus = x + delta\n",
    "    x_minus = x - delta\n",
    "\n",
    "    if time == T:\n",
    "        return max(0, x-K)\n",
    "\n",
    "    if time in d.keys():\n",
    "        if x in d[time].keys():\n",
    "            return d[time][x]\n",
    "        else:\n",
    "            val = american_option_price2(n,time, T, alpha, sigma, x, K, r)\n",
    "            d[time][x] = val\n",
    "    else:\n",
    "        val = american_option_price2(n,time, T, alpha, sigma, x, K, r)\n",
    "        d[time]={x:val}\n",
    "    \n",
    "    return max(max(0, x-K), (p(alpha, x) * american_option_price2(n, time+dt, T, alpha, sigma, x_plus, K, r) + (1-p(alpha, x)) * american_option_price2(n, time+dt, T, alpha, sigma, x_minus, K, r))/(1+r))"
   ]
  },
  {
   "cell_type": "code",
   "execution_count": null,
   "metadata": {},
   "outputs": [
    {
     "ename": "",
     "evalue": "",
     "output_type": "error",
     "traceback": [
      "\u001b[1;31mCanceled future for execute_request message before replies were done"
     ]
    },
    {
     "ename": "",
     "evalue": "",
     "output_type": "error",
     "traceback": [
      "\u001b[1;31m現在のセルまたは前のセルでコードを実行中に、カーネルがクラッシュしました。エラーの原因を特定するには、セル内のコードを確認してください。詳細については、<a href='https://aka.ms/vscodeJupyterKernelCrash'>こちら</a> をクリックしてください。さらなる詳細については、Jupyter [log] (command:jupyter.viewOutput) を参照してください。"
     ]
    }
   ],
   "source": [
    "n = 100\n",
    "time = 0.99\n",
    "T = 1\n",
    "alpha = 0.008\n",
    "sigma = 1.2\n",
    "x = 0.09\n",
    "K = 0.1\n",
    "r = 0.03\n",
    "\n",
    "#print(american_option_price2(n, time, T, alpha, sigma, x, K, r))"
   ]
  },
  {
   "cell_type": "code",
   "execution_count": null,
   "metadata": {},
   "outputs": [],
   "source": []
  }
 ],
 "metadata": {
  "kernelspec": {
   "display_name": "Python 3.10.5 64-bit ('3.10.5')",
   "language": "python",
   "name": "python3"
  },
  "language_info": {
   "codemirror_mode": {
    "name": "ipython",
    "version": 3
   },
   "file_extension": ".py",
   "mimetype": "text/x-python",
   "name": "python",
   "nbconvert_exporter": "python",
   "pygments_lexer": "ipython3",
   "version": "3.10.5"
  },
  "orig_nbformat": 4,
  "vscode": {
   "interpreter": {
    "hash": "55db80e6a08fa59d69a0a3d9d8332389981cf95fb3d5a21c471f63190e7c51de"
   }
  }
 },
 "nbformat": 4,
 "nbformat_minor": 2
}
