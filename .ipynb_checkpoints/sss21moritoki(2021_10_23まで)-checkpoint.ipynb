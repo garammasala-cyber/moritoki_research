{
 "cells": [
  {
   "cell_type": "code",
   "execution_count": 1,
   "metadata": {
    "id": "6NjZnA4rCmiL"
   },
   "outputs": [],
   "source": [
    "import numpy as np\n",
    "import matplotlib.pyplot as plt\n",
    "import pandas as pd\n",
    "import math\n",
    "import torch\n",
    "import torch.nn as nn\n",
    "from torch import functional as F\n",
    "from scipy import integrate\n",
    "from sympy import *\n",
    "import torch.optim as optim\n",
    "\n",
    "%matplotlib inline\n",
    "%config InlineBackend.figure_format = 'retina'\n",
    "\n",
    "\n",
    "\n",
    "np.random.seed(1234)\n"
   ]
  },
  {
   "cell_type": "code",
   "execution_count": 2,
   "metadata": {
    "id": "tlCKQcc47lZb"
   },
   "outputs": [],
   "source": [
    "pd.set_option('display.max_rows', 1000)\n",
    "pd.set_option('display.max_columns', 1000)"
   ]
  },
  {
   "cell_type": "markdown",
   "metadata": {
    "id": "mYhgTzkHFUSe"
   },
   "source": [
    "# データセットを作る\n",
    "まずコードが動くかどうか確認したいので、100個ぐらいでOK"
   ]
  },
  {
   "cell_type": "markdown",
   "metadata": {
    "id": "Uoga5rJ5ZDJ_"
   },
   "source": [
    "\n",
    "# ブラウン運動の発生"
   ]
  },
  {
   "cell_type": "code",
   "execution_count": 3,
   "metadata": {
    "id": "3VwoT4SIabrW"
   },
   "outputs": [],
   "source": [
    "def brownian_motion(n, T):\n",
    "    \"\"\"\n",
    "    Simulates a Brownian motion\n",
    "    :param int n : the number of discrete steps\n",
    "    :param int T: the number of continuous time steps\n",
    "    :param float h: the variance of the increments\n",
    "    \"\"\"\n",
    "    delta_t = 1. * T/n  # decide the increment of the time\n",
    "    partition = [i * delta_t for i in range(n + 1)] # make a partition\n",
    "    \n",
    "    # ブラウン運動の差分（平均：０，標準偏差：時間の差分）\n",
    "    random_increments = np.random.normal(loc = 0.0, scale = np.sqrt(delta_t), size = n)\n",
    "    '''\n",
    "    where loc = \"mean(average)\", scale = \"variance\", n = the number of increments.\n",
    "    (正規分布を発生させている)\n",
    "    '''\n",
    "    # making data like a Brownian motion\n",
    "    brownian_motion = np.cumsum(random_increments)  # calculate the brownian motion\n",
    "    # insert the initial condition\n",
    "    brownian_motion = np.insert(brownian_motion, 0, 0.0)\n",
    "    \n",
    "    return brownian_motion, random_increments, partition"
   ]
  },
  {
   "cell_type": "markdown",
   "metadata": {
    "id": "J7M9-RiIZJj2"
   },
   "source": [
    "# O-Uモデル（模擬データの作成）"
   ]
  },
  {
   "cell_type": "code",
   "execution_count": 4,
   "metadata": {
    "id": "v2kQuTRtkgvu"
   },
   "outputs": [],
   "source": [
    "def simulate_OU(n = 100, T = 1, mu = 3, X_0 = 0.1, sigma = 0.1, fig_mode = False):\n",
    "    # BMの生成\n",
    "    BM_1, dB_1, partition = brownian_motion(n, T)\n",
    "    dt = 1. * T / n\n",
    "    \n",
    "    # O-U model に従う ”Process X”を作成\n",
    "    X = np.zeros(n + 1)\n",
    "\n",
    "    X[0] = X_0\n",
    "    for i, dB_1_t, t in zip(range(1, n+1), dB_1, partition):\n",
    "        # 1つ前の Xの値\n",
    "        pre_X = X[i-1] \n",
    "        # X の値を計算（SDEに従う）\n",
    "        X[i] = pre_X + sigma * dB_1_t  -  mu * pre_X * dt\n",
    "        \n",
    "    \n",
    "    data_array = np.array([partition, X]).T\n",
    "    df = pd.DataFrame(data_array, columns = ['timestamp', 'process'])\n",
    "    \n",
    "    if fig_mode:\n",
    "        fig, ax = plt.subplots()\n",
    "\n",
    "        # plot the process X and volatility sigma\n",
    "        ax.plot(partition, X, color = 'blue', label = 'process')\n",
    "        ax.set_xlabel('time(s)')\n",
    "        ax.set_ylabel('process X')\n",
    "\n",
    "        # 以下はそんなに関係ないから気にしなくていい．\n",
    "        plt.gca().spines['right'].set_visible(False)\n",
    "        plt.gca().spines['top'].set_visible(False)\n",
    "        plt.gca().yaxis.set_ticks_position('left')\n",
    "        plt.gca().xaxis.set_ticks_position('bottom')\n",
    "\n",
    "        plt.legend()\n",
    "    \n",
    "    return df\n"
   ]
  },
  {
   "cell_type": "markdown",
   "metadata": {
    "id": "JO_c7LWApe5X"
   },
   "source": [
    "# ハイパーパラメータの設定"
   ]
  },
  {
   "cell_type": "code",
   "execution_count": 5,
   "metadata": {
    "id": "OQZlMojopyzp"
   },
   "outputs": [],
   "source": [
    "#時間\n",
    "n = 100\n",
    "#満期\n",
    "T = 1 \n",
    "#リスクフリーレート\n",
    "r = 0.001\n",
    "#行使価格\n",
    "K = 900"
   ]
  },
  {
   "cell_type": "markdown",
   "metadata": {
    "id": "2rfM4d3bqbMZ"
   },
   "source": [
    "## 初期値の設定"
   ]
  },
  {
   "cell_type": "code",
   "execution_count": 6,
   "metadata": {
    "id": "EKAc8rsjqgpB"
   },
   "outputs": [],
   "source": [
    "X_0 = 1\n",
    "mu = 0\n",
    "sigma = 1"
   ]
  },
  {
   "cell_type": "code",
   "execution_count": 8,
   "metadata": {
    "id": "m4nJJNygiaX0"
   },
   "outputs": [],
   "source": [
    "#pathの各payoffを計算\n",
    "datas_Payoff = []\n",
    "for t, x in zip(df[\"timestamp\"], df[\"process\"]):\n",
    "  data = math.exp(- r * t) * max( ( K - x ) , 0)\n",
    "  datas_Payoff.append(data)"
   ]
  },
  {
   "cell_type": "code",
   "execution_count": 9,
   "metadata": {
    "colab": {
     "base_uri": "https://localhost:8080/"
    },
    "id": "1c7CG3O4zK-v",
    "outputId": "dd5a8556-8142-4e0c-cf80-44b4d7fbce9c"
   },
   "outputs": [
    {
     "data": {
      "text/plain": [
       "0.0"
      ]
     },
     "execution_count": 9,
     "metadata": {},
     "output_type": "execute_result"
    }
   ],
   "source": [
    "max(datas_Payoff)"
   ]
  },
  {
   "cell_type": "markdown",
   "metadata": {
    "id": "QTxsoHTGrsih"
   },
   "source": [
    "#データの作成"
   ]
  },
  {
   "cell_type": "code",
   "execution_count": 10,
   "metadata": {
    "id": "8dIZ2wjpz975"
   },
   "outputs": [],
   "source": [
    "#データ数\n",
    "N = 10**2"
   ]
  },
  {
   "cell_type": "code",
   "execution_count": 11,
   "metadata": {
    "id": "xnAZ5w232bB-"
   },
   "outputs": [],
   "source": [
    "DATAs_input = []\n",
    "for _ in range(N):\n",
    "    df_path = simulate_OU(n = n, T = T, mu = mu, X_0 = X_0, sigma = sigma, fig_mode = False)\n",
    "    partition = df_path[\"timestamp\"].values\n",
    "    X = df_path[\"process\"].values\n",
    "    DATAs_input.append(df_path.values)\n",
    "DATAs_input = np.array(DATAs_input)"
   ]
  },
  {
   "cell_type": "code",
   "execution_count": 12,
   "metadata": {
    "id": "3Na4ixhr0K4v"
   },
   "outputs": [],
   "source": [
    "DATAs_teacher = []\n",
    "for _ in range(N):\n",
    "    df = simulate_OU(n = n, T = T, mu = mu, X_0 = X_0, sigma = sigma, fig_mode = False)\n",
    "    datas_Payoff = []\n",
    "    for t, x in zip(df[\"timestamp\"], df[\"process\"]):\n",
    "      data = math.exp(- r * t) * max( (x - K) , 0)\n",
    "      datas_Payoff.append(data)\n",
    "    Phi = max(datas_Payoff)\n",
    "    DATAs_teacher.append(Phi)\n",
    "DATAs_teacher = np.array(DATAs_teacher)"
   ]
  },
  {
   "cell_type": "code",
   "execution_count": 13,
   "metadata": {
    "id": "zQBX-X_b4VUf"
   },
   "outputs": [],
   "source": [
    "DATAs_input = torch.Tensor(DATAs_input)\n",
    "DATAs_teacher = torch.Tensor(DATAs_teacher)"
   ]
  },
  {
   "cell_type": "markdown",
   "metadata": {
    "id": "I38TOZD3Fq2r"
   },
   "source": [
    "## ニューラルネットワーク層を作る\n",
    "まずは1層か2層でOK"
   ]
  },
  {
   "cell_type": "code",
   "execution_count": 14,
   "metadata": {
    "id": "-FF3vh4ekrxA"
   },
   "outputs": [],
   "source": [
    "fc = nn.Linear(1,2)"
   ]
  },
  {
   "cell_type": "markdown",
   "metadata": {
    "id": "4MrgH0p09Umw"
   },
   "source": [
    "#モデルの作成"
   ]
  },
  {
   "cell_type": "code",
   "execution_count": 15,
   "metadata": {
    "id": "PZbEy2JI9XU7"
   },
   "outputs": [],
   "source": [
    "class NeuralNetwork(nn.Module):\n",
    "    def __init__(self):\n",
    "        super(NeuralNetwork, self).__init__()\n",
    "        self.layer1 = nn.Linear( 2, 1)\n",
    "\n",
    "    def forward(self, x):\n",
    "        # フォワードパスを定義\n",
    "        x = torch.sigmoid(self.layer1(x))  \n",
    "        return x"
   ]
  },
  {
   "cell_type": "code",
   "execution_count": 16,
   "metadata": {
    "id": "arxTz8uI_agB"
   },
   "outputs": [],
   "source": [
    "# モデル（NeuralNetworkクラス）のインスタンス化\n",
    "model = NeuralNetwork()"
   ]
  },
  {
   "cell_type": "code",
   "execution_count": 17,
   "metadata": {
    "id": "u_A8q9lu_ek7"
   },
   "outputs": [],
   "source": [
    "y = model(DATAs_input) "
   ]
  },
  {
   "cell_type": "markdown",
   "metadata": {
    "id": "TvBLDYztOBPm"
   },
   "source": [
    "## 誤差関数を定義"
   ]
  },
  {
   "cell_type": "markdown",
   "metadata": {
    "id": "q0nOo81pOQjq"
   },
   "source": [
    "今定義したいのは、\n",
    "$$\\int_a^b (|\\Phi(x)-U(x)|^2) dx$$"
   ]
  },
  {
   "cell_type": "code",
   "execution_count": 18,
   "metadata": {
    "id": "CNgv3n3gk3Yk"
   },
   "outputs": [],
   "source": [
    "class CustomLoss(nn.Module):\n",
    "    def __init__(self):\n",
    "        super().__init__()\n",
    "\n",
    "    def forward(self, targets, outputs):\n",
    "        loss = (targets - outputs) ** 2\n",
    "        #inputs = symbols(\"inputs\")\n",
    "        #loss = integrate(integ, (inputs, a, b))\n",
    "        #loss = integ\n",
    "        return loss"
   ]
  },
  {
   "cell_type": "code",
   "execution_count": 19,
   "metadata": {
    "id": "rhmzUrSeqv7A"
   },
   "outputs": [],
   "source": [
    "criterion = CustomLoss()\n",
    "inputs = DATAs_input\n",
    "outputs = model(inputs)\n",
    "targets = DATAs_teacher"
   ]
  },
  {
   "cell_type": "code",
   "execution_count": 20,
   "metadata": {
    "id": "fgHa4TLi6i3x"
   },
   "outputs": [],
   "source": [
    "a = 0\n",
    "b = 1"
   ]
  },
  {
   "cell_type": "code",
   "execution_count": 21,
   "metadata": {
    "colab": {
     "base_uri": "https://localhost:8080/",
     "height": 311
    },
    "id": "6lM3mWoQrK_S",
    "outputId": "869fdee9-11e1-4780-dafb-b237d3ccba50"
   },
   "outputs": [],
   "source": [
    "loss = criterion(outputs, targets)"
   ]
  },
  {
   "cell_type": "code",
   "execution_count": 22,
   "metadata": {
    "id": "BJgUcTwZ2s3u"
   },
   "outputs": [],
   "source": [
    "loss_sum = torch.sum(loss)"
   ]
  },
  {
   "cell_type": "code",
   "execution_count": 23,
   "metadata": {
    "id": "03Ug5RvdyfW6"
   },
   "outputs": [],
   "source": [
    "loss_sum.backward()"
   ]
  },
  {
   "cell_type": "markdown",
   "metadata": {
    "id": "tyeB0yyotPhv"
   },
   "source": [
    "#最適化"
   ]
  },
  {
   "cell_type": "code",
   "execution_count": 24,
   "metadata": {
    "id": "_eYP88ATubPu"
   },
   "outputs": [],
   "source": [
    "optimizer = optim.SGD(model.parameters(), lr = 0.1)"
   ]
  },
  {
   "cell_type": "markdown",
   "metadata": {
    "id": "qw_-sGtfuyQB"
   },
   "source": [
    "#学習"
   ]
  },
  {
   "cell_type": "code",
   "execution_count": 25,
   "metadata": {
    "id": "w7tuXwgTu1gH"
   },
   "outputs": [],
   "source": [
    "epochs = 100"
   ]
  },
  {
   "cell_type": "code",
   "execution_count": 26,
   "metadata": {
    "id": "uRy9aKf2vCTW"
   },
   "outputs": [],
   "source": [
    "model.train()\n",
    "for epoch in range(epochs):\n",
    "  optimizer.zero_grad()\n",
    "  outputs = model(inputs)\n",
    "  loss = criterion(outputs, targets)\n",
    "  loss_sum = torch.sum(loss)\n",
    "  loss_sum.backward()\n",
    "  optimizer.step()"
   ]
  },
  {
   "cell_type": "code",
   "execution_count": 27,
   "metadata": {
    "colab": {
     "base_uri": "https://localhost:8080/"
    },
    "id": "-S5xKCYB3M2R",
    "outputId": "e5634c91-0a52-457d-d303-d7b24d23267a"
   },
   "outputs": [
    {
     "data": {
      "text/plain": [
       "tensor([[[1.],\n",
       "         [1.],\n",
       "         [1.],\n",
       "         ...,\n",
       "         [1.],\n",
       "         [1.],\n",
       "         [1.]],\n",
       "\n",
       "        [[1.],\n",
       "         [1.],\n",
       "         [1.],\n",
       "         ...,\n",
       "         [1.],\n",
       "         [1.],\n",
       "         [1.]],\n",
       "\n",
       "        [[1.],\n",
       "         [1.],\n",
       "         [1.],\n",
       "         ...,\n",
       "         [1.],\n",
       "         [1.],\n",
       "         [1.]],\n",
       "\n",
       "        ...,\n",
       "\n",
       "        [[1.],\n",
       "         [1.],\n",
       "         [1.],\n",
       "         ...,\n",
       "         [1.],\n",
       "         [1.],\n",
       "         [1.]],\n",
       "\n",
       "        [[1.],\n",
       "         [1.],\n",
       "         [1.],\n",
       "         ...,\n",
       "         [1.],\n",
       "         [1.],\n",
       "         [1.]],\n",
       "\n",
       "        [[1.],\n",
       "         [1.],\n",
       "         [1.],\n",
       "         ...,\n",
       "         [1.],\n",
       "         [1.],\n",
       "         [1.]]], grad_fn=<SigmoidBackward>)"
      ]
     },
     "execution_count": 27,
     "metadata": {},
     "output_type": "execute_result"
    }
   ],
   "source": [
    "model(DATAs_input)"
   ]
  },
  {
   "cell_type": "code",
   "execution_count": 28,
   "metadata": {
    "id": "t3if6_2l4aUv"
   },
   "outputs": [],
   "source": [
    "loss_fn = CustomLoss()"
   ]
  },
  {
   "cell_type": "code",
   "execution_count": 29,
   "metadata": {
    "colab": {
     "base_uri": "https://localhost:8080/"
    },
    "id": "bS928IS64_bk",
    "outputId": "5f37d0ff-a6f3-49c4-a167-12a1c2bd7e6a"
   },
   "outputs": [
    {
     "data": {
      "text/plain": [
       "tensor(1.0031e+10, grad_fn=<SumBackward0>)"
      ]
     },
     "execution_count": 29,
     "metadata": {},
     "output_type": "execute_result"
    }
   ],
   "source": [
    "loss_fn(model(DATAs_input),DATAs_teacher)\n",
    "sum_loss_fn = torch.sum(loss_fn(model(DATAs_input),DATAs_teacher))\n",
    "sum_loss_fn"
   ]
  },
  {
   "cell_type": "markdown",
   "metadata": {
    "id": "2EaqVjk1VM6d"
   },
   "source": [
    "# メモ"
   ]
  }
 ],
 "metadata": {
  "colab": {
   "collapsed_sections": [
    "2EaqVjk1VM6d"
   ],
   "name": "sss21moritoki",
   "provenance": []
  },
  "kernelspec": {
   "display_name": "Python 3",
   "language": "python",
   "name": "python3"
  },
  "language_info": {
   "codemirror_mode": {
    "name": "ipython",
    "version": 3
   },
   "file_extension": ".py",
   "mimetype": "text/x-python",
   "name": "python",
   "nbconvert_exporter": "python",
   "pygments_lexer": "ipython3",
   "version": "3.7.5"
  }
 },
 "nbformat": 4,
 "nbformat_minor": 1
}
