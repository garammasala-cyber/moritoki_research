{
 "cells": [
  {
   "cell_type": "code",
   "execution_count": 15,
   "id": "6be27ae8-8ea9-448e-8d94-6ec0239e9c6f",
   "metadata": {},
   "outputs": [
    {
     "name": "stdout",
     "output_type": "stream",
     "text": [
      "Requirement already satisfied: matplotlib in /Users/garammasala/opt/anaconda3/lib/python3.8/site-packages (3.3.4)\n",
      "Requirement already satisfied: python-dateutil>=2.1 in /Users/garammasala/opt/anaconda3/lib/python3.8/site-packages (from matplotlib) (2.8.1)\n",
      "Requirement already satisfied: pyparsing!=2.0.4,!=2.1.2,!=2.1.6,>=2.0.3 in /Users/garammasala/opt/anaconda3/lib/python3.8/site-packages (from matplotlib) (2.4.7)\n",
      "Requirement already satisfied: cycler>=0.10 in /Users/garammasala/opt/anaconda3/lib/python3.8/site-packages (from matplotlib) (0.10.0)\n",
      "Requirement already satisfied: numpy>=1.15 in /Users/garammasala/opt/anaconda3/lib/python3.8/site-packages (from matplotlib) (1.20.1)\n",
      "Requirement already satisfied: kiwisolver>=1.0.1 in /Users/garammasala/opt/anaconda3/lib/python3.8/site-packages (from matplotlib) (1.3.1)\n",
      "Requirement already satisfied: pillow>=6.2.0 in /Users/garammasala/opt/anaconda3/lib/python3.8/site-packages (from matplotlib) (8.2.0)\n",
      "Requirement already satisfied: six in /Users/garammasala/opt/anaconda3/lib/python3.8/site-packages (from cycler>=0.10->matplotlib) (1.15.0)\n"
     ]
    }
   ],
   "source": [
    "!pip install matplotlib"
   ]
  },
  {
   "cell_type": "code",
   "execution_count": 16,
   "id": "5b4b0048-2905-4847-ae00-aa7158ae127a",
   "metadata": {},
   "outputs": [],
   "source": [
    "import csv\n",
    "import pandas as pd\n",
    "import numpy as np\n",
    "from matplotlib import pyplot"
   ]
  },
  {
   "cell_type": "code",
   "execution_count": 2,
   "id": "fdbcd4be-2c87-4644-9296-254dea8dfa06",
   "metadata": {},
   "outputs": [],
   "source": [
    "T = 1\n",
    "num_partition = 100\n",
    "len_partition = T / num_partition\n",
    "i = 2"
   ]
  },
  {
   "cell_type": "code",
   "execution_count": 3,
   "id": "864b7a82-e300-4f44-95cb-91bac10747a5",
   "metadata": {},
   "outputs": [],
   "source": [
    "#csv読み込み\n",
    "#windowsならこっち\n",
    "#csv_input = pd.read_csv(filepath_or_buffer=\"/Users/mk042.DESKTOP-K9G0PKU/Desktop/sss21moritoki/csv_experiment/to_csv_out_1.csv\", encoding=\"ms932\", sep=\",\")\n",
    "\n",
    "#macならこっち\n",
    "df = pd.read_csv(filepath_or_buffer=\"/Users/garammasala/sss21/csv_experiment/to_csv_out_{}.csv\".format(i), encoding=\"ms932\", sep=\",\")"
   ]
  },
  {
   "cell_type": "code",
   "execution_count": 4,
   "id": "b9d9fc5d-6c11-42be-b550-d7a7d003099b",
   "metadata": {},
   "outputs": [],
   "source": [
    "df = df.drop(\"t_diff\",axis=1)\n",
    "df = df.drop(\"x_diff\",axis=1)\n",
    "df = df.drop(\"(1/2)xx_diff\",axis=1)\n",
    "df = df.drop(\"left\",axis=1)\n",
    "df = df.drop(\"right\",axis=1)"
   ]
  },
  {
   "cell_type": "code",
   "execution_count": 5,
   "id": "145f183e-7089-48c8-88df-d747567e17ca",
   "metadata": {},
   "outputs": [
    {
     "name": "stdout",
     "output_type": "stream",
     "text": [
      "    Unnamed: 0         X     value\n",
      "0            0 -4.531362  0.005928\n",
      "1            1 -3.550335  0.003566\n",
      "2            2  1.720179  5.817842\n",
      "3            3 -3.730312  0.004078\n",
      "4            4 -0.085257  0.033731\n",
      "..         ...       ...       ...\n",
      "95          95  2.511342  0.028625\n",
      "96          96 -3.612596  0.003754\n",
      "97          97 -3.003067  0.835225\n",
      "98          98  4.102554  5.026865\n",
      "99          99  1.389296  2.411366\n",
      "\n",
      "[100 rows x 3 columns]\n"
     ]
    }
   ],
   "source": [
    "print(df)"
   ]
  },
  {
   "cell_type": "code",
   "execution_count": 6,
   "id": "c2b7bfe9-1a31-4ed9-b8ce-2f4a7d1915a2",
   "metadata": {},
   "outputs": [],
   "source": [
    "df = df.sort_values(by=\"X\")"
   ]
  },
  {
   "cell_type": "code",
   "execution_count": 7,
   "id": "17a114e5-dfa2-465e-8f28-533c102b456a",
   "metadata": {},
   "outputs": [
    {
     "name": "stdout",
     "output_type": "stream",
     "text": [
      "    Unnamed: 0         X     value\n",
      "55          55 -4.955298  0.006261\n",
      "11          11 -4.858866  0.596061\n",
      "34          34 -4.699351  0.006068\n",
      "31          31 -4.561330  0.005964\n",
      "84          84 -4.560289  0.548121\n",
      "..         ...       ...       ...\n",
      "26          26  4.368635  0.008116\n",
      "62          62  4.402691  0.007656\n",
      "41          41  4.668715  6.184864\n",
      "67          67  4.780695 -0.012551\n",
      "63          63  4.863846 -0.020016\n",
      "\n",
      "[100 rows x 3 columns]\n"
     ]
    }
   ],
   "source": [
    "print(df)"
   ]
  },
  {
   "cell_type": "code",
   "execution_count": 18,
   "id": "2d706a07-ebe6-40a3-ba57-fc3958e478b2",
   "metadata": {},
   "outputs": [],
   "source": [
    "Time = []\n",
    "X = []"
   ]
  },
  {
   "cell_type": "code",
   "execution_count": 9,
   "id": "f0732862-9929-4b27-bda8-04c053524112",
   "metadata": {},
   "outputs": [],
   "source": [
    "for j in range(len(df[\"value\"])):\n",
    "    if (df[\"value\"].iloc[i])**2 < 1e-6: \n",
    "        X.append(df[\"value\"].iloc[j])\n",
    "        break\n",
    "    if j == len(df[\"value\"]) -1:\n",
    "        value = [x ** 2 for x in df[\"value\"]]\n",
    "        X.append(df[\"X\"][np.argmin(value)])"
   ]
  },
  {
   "cell_type": "code",
   "execution_count": 10,
   "id": "6b16d9e1-797a-4310-a562-af78dfdb66f2",
   "metadata": {},
   "outputs": [],
   "source": [
    "Time.append(T-(i+1)*len_partition)"
   ]
  },
  {
   "cell_type": "code",
   "execution_count": 12,
   "id": "089118cb-541c-4c77-a18f-f14325854075",
   "metadata": {},
   "outputs": [
    {
     "data": {
      "text/plain": [
       "([-0.6280014514923096], [0.97])"
      ]
     },
     "execution_count": 12,
     "metadata": {},
     "output_type": "execute_result"
    }
   ],
   "source": [
    "X,Time"
   ]
  },
  {
   "cell_type": "code",
   "execution_count": 19,
   "id": "dca03c07-6083-4a33-baa8-3e87114cd881",
   "metadata": {},
   "outputs": [],
   "source": [
    " for i in range(num_partition):\n",
    "        df = pd.read_csv(filepath_or_buffer=\"/Users/garammasala/sss21/csv_experiment/to_csv_out_{}.csv\".format(i), encoding=\"ms932\", sep=\",\")\n",
    "        df = df.sort_values(by=\"X\")\n",
    "        for j in range(len(df[\"value\"])):\n",
    "            if (df[\"value\"].iloc[i])**2 < 1e-6: \n",
    "                X.append(df[\"value\"].iloc[j])\n",
    "                break\n",
    "            if j == len(df[\"value\"]) -1:\n",
    "                value = [x ** 2 for x in df[\"value\"]]\n",
    "                X.append(df[\"X\"][np.argmin(value)])\n",
    "        Time.append(T-(i+1)*len_partition)"
   ]
  },
  {
   "cell_type": "code",
   "execution_count": 20,
   "id": "cc6461a2-5628-4672-a100-d167962f8de2",
   "metadata": {},
   "outputs": [
    {
     "data": {
      "image/png": "[encoded data removed]",
      "text/plain": [
       "<Figure size 432x288 with 1 Axes>"
      ]
     },
     "metadata": {
      "needs_background": "light"
     },
     "output_type": "display_data"
    }
   ],
   "source": [
    "pyplot.plot(Time, X)\n",
    "pyplot.show()"
   ]
  },
  {
   "cell_type": "code",
   "execution_count": null,
   "id": "6ee7f277-f501-453a-94bf-355b8856fde1",
   "metadata": {},
   "outputs": [],
   "source": []
  }
 ],
 "metadata": {
  "kernelspec": {
   "display_name": "Python 3",
   "language": "python",
   "name": "python3"
  },
  "language_info": {
   "codemirror_mode": {
    "name": "ipython",
    "version": 3
   },
   "file_extension": ".py",
   "mimetype": "text/x-python",
   "name": "python",
   "nbconvert_exporter": "python",
   "pygments_lexer": "ipython3",
   "version": "3.8.8"
  }
 },
 "nbformat": 4,
 "nbformat_minor": 5
}
