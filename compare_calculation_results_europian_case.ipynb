{
 "cells": [
  {
   "cell_type": "markdown",
   "metadata": {},
   "source": [
    "# Comparison of calculation results for Europian option"
   ]
  },
  {
   "cell_type": "markdown",
   "metadata": {},
   "source": [
    "## $OU$ model case"
   ]
  },
  {
   "cell_type": "markdown",
   "metadata": {},
   "source": [
    "### Theoretical value"
   ]
  },
  {
   "cell_type": "markdown",
   "metadata": {},
   "source": [
    "\\begin{align}\n",
    "    & X_t \\sim N(x_0 e^{-\\alpha t}, \\frac{\\sigma^2}{2\\alpha} (1 - e^{-2 \\alpha t})) \\\\\n",
    "    & \\hat{\\mu} := x_0 e^{-\\alpha t}, \\hat{\\sigma}^2 := \\frac{\\sigma^2}{2\\alpha} (1 - e^{-2 \\alpha t}) \\\\\n",
    "    & f(x) = (e^x - K)_+\n",
    "\\end{align}\n",
    "\n",
    "なので、\n",
    "\n",
    "\\begin{align}\n",
    "    \\mathbb{E}[f(X_t)] = e^{\\hat{\\mu} + \\frac{\\hat{\\sigma}^2}{2}} \\mathbb{P}\n",
    "    \\left( \\frac{\\log{K}-(\\hat{\\mu} + \\hat{\\sigma}^2)}{\\hat{\\sigma}} \\le N(0,1) \\right)\n",
    "    - K \\mathbb{P} \\left( \\frac{\\log{K}- \\hat{\\mu}}{\\hat{\\sigma}} \\le N(0,1) \\right)\n",
    "\\end{align}"
   ]
  },
  {
   "cell_type": "code",
   "execution_count": 47,
   "metadata": {},
   "outputs": [],
   "source": [
    "import scipy\n",
    "from scipy.stats import norm\n",
    "import numpy as np"
   ]
  },
  {
   "cell_type": "code",
   "execution_count": 48,
   "metadata": {},
   "outputs": [],
   "source": [
    "import parameter\n",
    "x_0 = parameter.x_0\n",
    "alpha = parameter.alpha\n",
    "sigma = parameter.sigma\n",
    "K = parameter.K\n",
    "n = 100\n",
    "T = parameter.T\n",
    "\n",
    "import math\n",
    "e = math.e"
   ]
  },
  {
   "cell_type": "code",
   "execution_count": 49,
   "metadata": {},
   "outputs": [],
   "source": [
    "mu_hat = x_0 * e**(- alpha * T)\n",
    "sigma_hat = math.sqrt(sigma**2 / (2*alpha) * (1 - e**(-2*alpha*T)))"
   ]
  },
  {
   "cell_type": "code",
   "execution_count": 50,
   "metadata": {},
   "outputs": [
    {
     "name": "stdout",
     "output_type": "stream",
     "text": [
      "2.00420917795792\n"
     ]
    }
   ],
   "source": [
    "sigma_hat_p2 = sigma**2  * (1 - np.exp(- 2 * alpha * T)) / ( 2 * alpha)\n",
    "print(sigma_hat_p2)"
   ]
  },
  {
   "cell_type": "code",
   "execution_count": 51,
   "metadata": {},
   "outputs": [
    {
     "name": "stdout",
     "output_type": "stream",
     "text": [
      "0.9946531180419257\n",
      "0.9946531180419257\n"
     ]
    }
   ],
   "source": [
    "print(norm.sf((np.log(K) - mu_hat - sigma_hat**2)/sigma_hat, loc=0, scale=1))\n",
    "print(norm.sf(np.log(K), loc= mu_hat + sigma_hat**2, scale=np.sqrt(sigma_hat**2)))"
   ]
  },
  {
   "cell_type": "code",
   "execution_count": 52,
   "metadata": {},
   "outputs": [],
   "source": [
    "theoretical_price_OU_model_case = e**(mu_hat + sigma_hat**2 /2) * norm.sf((K - mu_hat - sigma_hat**2)/sigma_hat, loc=0, scale=1) - K * norm.sf((K - mu_hat)/sigma_hat, loc=0, scale=1)"
   ]
  },
  {
   "cell_type": "code",
   "execution_count": 53,
   "metadata": {},
   "outputs": [
    {
     "name": "stdout",
     "output_type": "stream",
     "text": [
      "2.3594214381470935\n"
     ]
    }
   ],
   "source": [
    "print(theoretical_price_OU_model_case)"
   ]
  },
  {
   "cell_type": "code",
   "execution_count": 54,
   "metadata": {},
   "outputs": [],
   "source": [
    "import numpy as np\n",
    "from statistics import mean"
   ]
  },
  {
   "cell_type": "code",
   "execution_count": 55,
   "metadata": {},
   "outputs": [],
   "source": [
    "import OU_model_generator"
   ]
  },
  {
   "cell_type": "markdown",
   "metadata": {},
   "source": [
    "## discrete $OU$ model case"
   ]
  },
  {
   "cell_type": "code",
   "execution_count": 56,
   "metadata": {},
   "outputs": [],
   "source": [
    "import discrete_OU_model_generator"
   ]
  },
  {
   "cell_type": "code",
   "execution_count": 57,
   "metadata": {},
   "outputs": [],
   "source": [
    "delta = discrete_OU_model_generator.Delta(n, T, sigma)\n",
    "\n",
    "def weight_deltas(k):\n",
    "    return [i * delta for i in range (-k, k+1, 2)]\n",
    "\n",
    "p = discrete_OU_model_generator.up_probability"
   ]
  },
  {
   "cell_type": "code",
   "execution_count": 58,
   "metadata": {},
   "outputs": [],
   "source": [
    "sum_probability_dic = {}\n",
    "sum_probability = None\n",
    "def sum_probability_for_weight(k=3, position = 4):\n",
    "    if k in sum_probability_dic.keys():\n",
    "        if position in sum_probability_dic[k].keys():\n",
    "            #print('skip')\n",
    "            pass\n",
    "        else:\n",
    "            if k == 1:\n",
    "                if position == 0:\n",
    "                    sum_probability = 1 - p(alpha, x_0)\n",
    "                else:\n",
    "                    sum_probability = p(alpha, x_0)     \n",
    "            elif position == k:\n",
    "                sum_probability = p(alpha, x_0 + weight_deltas(k-1)[position - 1]) * sum_probability_for_weight(k-1, position - 1)\n",
    "            elif position == 0:\n",
    "                sum_probability = (1 - p(alpha, x_0 + weight_deltas(k-1)[0])) * sum_probability_for_weight(k-1, 0)\n",
    "            else:\n",
    "                if k-1 in sum_probability_dic.keys():\n",
    "                    if position in sum_probability_dic[k-1].keys():\n",
    "                        #print('skip')\n",
    "                        pass\n",
    "                    else:\n",
    "                        sum_probability1 = sum_probability_for_weight(k-1, position)\n",
    "                        sum_probability_dic[k-1][position] = sum_probability1\n",
    "                    if position - 1 in sum_probability_dic[k-1].keys():\n",
    "                        #print('skip')\n",
    "                        pass\n",
    "                    else:\n",
    "                        sum_probability2 = sum_probability_for_weight(k-1, position - 1)\n",
    "                        sum_probability_dic[k-1][position - 1] = sum_probability2\n",
    "                else:\n",
    "                    sum_probability1 = sum_probability_for_weight(k-1, position)\n",
    "                    sum_probability_dic[k-1] = {position : sum_probability1}\n",
    "                    sum_probability2 = sum_probability_for_weight(k-1, position - 1)\n",
    "                    sum_probability_dic[k-1][position - 1] = sum_probability2\n",
    "                sum_probability = p(alpha, x_0 + weight_deltas(k-1)[position - 1]) * sum_probability_dic[k-1][position - 1] + (1 - p(alpha, x_0 + weight_deltas(k-1)[position])) * sum_probability_dic[k-1][position]\n",
    "            sum_probability_dic[k][position] = sum_probability\n",
    "    \n",
    "    else:\n",
    "        if k == 1:\n",
    "            if position == 0:\n",
    "                sum_probability = 1 - p(alpha, x_0)\n",
    "            else:\n",
    "                sum_probability = p(alpha, x_0)  \n",
    "        elif position == k:\n",
    "            sum_probability = p(alpha, x_0 + weight_deltas(k-1)[position - 1]) * sum_probability_for_weight(k-1, position - 1)\n",
    "        elif position == 0:\n",
    "            sum_probability = (1 - p(alpha, x_0 + weight_deltas(k-1)[0])) * sum_probability_for_weight(k-1, 0)\n",
    "        else:\n",
    "            sum_probability1 = sum_probability_for_weight(k-1, position)\n",
    "            sum_probability_dic[k-1] = {position : sum_probability1}\n",
    "            sum_probability2 = sum_probability_for_weight(k-1, position - 1)\n",
    "            sum_probability_dic[k-1][position - 1] = sum_probability2\n",
    "            sum_probability = p(alpha, x_0 + weight_deltas(k-1)[position - 1]) * sum_probability_dic[k-1][position - 1] + (1 - p(alpha, x_0 + weight_deltas(k-1)[position])) * sum_probability_dic[k-1][position]\n",
    "\n",
    "        sum_probability_dic[k] = {position : sum_probability}\n",
    "    \n",
    "    return sum_probability_dic[k][position]"
   ]
  },
  {
   "cell_type": "code",
   "execution_count": null,
   "metadata": {},
   "outputs": [
    {
     "name": "stdout",
     "output_type": "stream",
     "text": [
      "[-23.0, -22.54, -22.08, -21.619999999999997, -21.159999999999997, -20.7, -20.24, -19.779999999999998, -19.32, -18.86, -18.4, -17.939999999999998, -17.479999999999997, -17.02, -16.56, -16.099999999999998, -15.639999999999999, -15.18, -14.719999999999999, -14.259999999999998, -13.799999999999999, -13.34, -12.879999999999999, -12.419999999999998, -11.959999999999999, -11.5, -11.04, -10.579999999999998, -10.12, -9.66, -9.2, -8.739999999999998, -8.28, -7.819999999999999, -7.359999999999999, -6.8999999999999995, -6.4399999999999995, -5.9799999999999995, -5.52, -5.06, -4.6, -4.14, -3.6799999999999997, -3.2199999999999998, -2.76, -2.3, -1.8399999999999999, -1.38, -0.9199999999999999, -0.45999999999999996, 0.0, 0.45999999999999996, 0.9199999999999999, 1.38, 1.8399999999999999, 2.3, 2.76, 3.2199999999999998, 3.6799999999999997, 4.14, 4.6, 5.06, 5.52, 5.9799999999999995, 6.4399999999999995, 6.8999999999999995, 7.359999999999999, 7.819999999999999, 8.28, 8.739999999999998, 9.2, 9.66, 10.12, 10.579999999999998, 11.04, 11.5, 11.959999999999999, 12.419999999999998, 12.879999999999999, 13.34, 13.799999999999999, 14.259999999999998, 14.719999999999999, 15.18, 15.639999999999999, 16.099999999999998, 16.56, 17.02, 17.479999999999997, 17.939999999999998, 18.4, 18.86, 19.32, 19.779999999999998, 20.24, 20.7, 21.159999999999997, 21.619999999999997, 22.08, 22.54, 23.0]\n"
     ]
    }
   ],
   "source": [
    "sum_probability_dic = {}\n",
    "k = n\n",
    "for i in range(k+1):\n",
    "    sum_probability_for_weight(k,i)\n",
    "#print(sum_probability_dic)\n",
    "print(weight_deltas(k))"
   ]
  },
  {
   "cell_type": "code",
   "execution_count": null,
   "metadata": {},
   "outputs": [
    {
     "name": "stdout",
     "output_type": "stream",
     "text": [
      "0\n"
     ]
    },
    {
     "ename": "TypeError",
     "evalue": "sum_probability_for_weight() takes from 0 to 2 positional arguments but 4 were given",
     "output_type": "error",
     "traceback": [
      "\u001b[0;31m---------------------------------------------------------------------------\u001b[0m",
      "\u001b[0;31mTypeError\u001b[0m                                 Traceback (most recent call last)",
      "\u001b[1;32mセル21 を /Users/garammasala/moritoki_research/compare_calculation_results_europian_case.ipynb\u001b[0m in \u001b[0;36m<cell line: 1>\u001b[0;34m()\u001b[0m\n\u001b[1;32m      <a href='vscode-notebook-cell:/Users/garammasala/moritoki_research/compare_calculation_results_europian_case.ipynb#ch0000018?line=0'>1</a>\u001b[0m \u001b[39mfor\u001b[39;00m k \u001b[39min\u001b[39;00m \u001b[39mrange\u001b[39m(\u001b[39m2\u001b[39m):\n\u001b[1;32m      <a href='vscode-notebook-cell:/Users/garammasala/moritoki_research/compare_calculation_results_europian_case.ipynb#ch0000018?line=1'>2</a>\u001b[0m     \u001b[39mprint\u001b[39m(k)\n\u001b[0;32m----> <a href='vscode-notebook-cell:/Users/garammasala/moritoki_research/compare_calculation_results_europian_case.ipynb#ch0000018?line=2'>3</a>\u001b[0m     \u001b[39mprint\u001b[39m(\u001b[39msum\u001b[39m([sum_probability_for_weight(alpha, x_0, k, x_0 \u001b[39m+\u001b[39m increment) \u001b[39mfor\u001b[39;00m increment \u001b[39min\u001b[39;00m weight_deltas(k)]))\n",
      "\u001b[1;32mセル21 を /Users/garammasala/moritoki_research/compare_calculation_results_europian_case.ipynb\u001b[0m in \u001b[0;36m<listcomp>\u001b[0;34m(.0)\u001b[0m\n\u001b[1;32m      <a href='vscode-notebook-cell:/Users/garammasala/moritoki_research/compare_calculation_results_europian_case.ipynb#ch0000018?line=0'>1</a>\u001b[0m \u001b[39mfor\u001b[39;00m k \u001b[39min\u001b[39;00m \u001b[39mrange\u001b[39m(\u001b[39m2\u001b[39m):\n\u001b[1;32m      <a href='vscode-notebook-cell:/Users/garammasala/moritoki_research/compare_calculation_results_europian_case.ipynb#ch0000018?line=1'>2</a>\u001b[0m     \u001b[39mprint\u001b[39m(k)\n\u001b[0;32m----> <a href='vscode-notebook-cell:/Users/garammasala/moritoki_research/compare_calculation_results_europian_case.ipynb#ch0000018?line=2'>3</a>\u001b[0m     \u001b[39mprint\u001b[39m(\u001b[39msum\u001b[39m([sum_probability_for_weight(alpha, x_0, k, x_0 \u001b[39m+\u001b[39;49m increment) \u001b[39mfor\u001b[39;00m increment \u001b[39min\u001b[39;00m weight_deltas(k)]))\n",
      "\u001b[0;31mTypeError\u001b[0m: sum_probability_for_weight() takes from 0 to 2 positional arguments but 4 were given"
     ]
    }
   ],
   "source": [
    "for k in range(2):\n",
    "    print(k)\n",
    "    print(sum([sum_probability_for_weight(alpha, x_0, k, x_0 + increment) for increment in weight_deltas(k)]))"
   ]
  },
  {
   "cell_type": "code",
   "execution_count": null,
   "metadata": {},
   "outputs": [],
   "source": [
    "def mean_discrete_OU_process(n=100, T=1, time=0.01, alpha=1.5, sigma=1.2, z_0=0):\n",
    "    k = (int) (n * time)\n",
    "    weights = weight_deltas(k)\n",
    "    probabilities = [sum_probability_for_weight(alpha, z_0, k, z_0 + increment) for increment in weight_deltas(k)]\n",
    "    return sum([weight * p for weight, p in zip(weights, probabilities)]),[weight * p for weight, p in zip(weights, probabilities)]"
   ]
  },
  {
   "cell_type": "code",
   "execution_count": null,
   "metadata": {},
   "outputs": [
    {
     "data": {
      "text/plain": [
       "0.0"
      ]
     },
     "execution_count": 409,
     "metadata": {},
     "output_type": "execute_result"
    }
   ],
   "source": [
    "mean_discrete_OU_process(n=10, T=1, time=0.6, alpha=1.5, sigma=1.5, z_0=1.2)[0]"
   ]
  },
  {
   "cell_type": "code",
   "execution_count": null,
   "metadata": {},
   "outputs": [
    {
     "name": "stdout",
     "output_type": "stream",
     "text": [
      "1.555 => 1.5\n"
     ]
    }
   ],
   "source": [
    "n = 1  # 切り捨てしたい桁\n",
    "x = 1.555\n",
    "y = np.floor(x * 10 ** n) / (10 ** n)\n",
    "print(x, \"=>\", y)"
   ]
  }
 ],
 "metadata": {
  "kernelspec": {
   "display_name": "Python 3.10.5 64-bit ('3.10.5')",
   "language": "python",
   "name": "python3"
  },
  "language_info": {
   "codemirror_mode": {
    "name": "ipython",
    "version": 3
   },
   "file_extension": ".py",
   "mimetype": "text/x-python",
   "name": "python",
   "nbconvert_exporter": "python",
   "pygments_lexer": "ipython3",
   "version": "3.10.5"
  },
  "orig_nbformat": 4,
  "vscode": {
   "interpreter": {
    "hash": "55db80e6a08fa59d69a0a3d9d8332389981cf95fb3d5a21c471f63190e7c51de"
   }
  }
 },
 "nbformat": 4,
 "nbformat_minor": 2
}
