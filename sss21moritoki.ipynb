{
 "cells": [
  {
   "cell_type": "code",
   "execution_count": 1,
   "metadata": {
    "id": "6NjZnA4rCmiL"
   },
   "outputs": [],
   "source": [
    "import numpy as np\n",
    "import matplotlib.pyplot as plt\n",
    "import pandas as pd\n",
    "import math\n",
    "import torch\n",
    "import torch.nn as nn\n",
    "from torch.nn import functional as F\n",
    "from scipy import integrate\n",
    "from sympy import *\n",
    "import torch.optim as optim\n",
    "\n",
    "%matplotlib inline\n",
    "%config InlineBackend.figure_format = 'retina'\n",
    "\n",
    "\n",
    "\n",
    "np.random.seed(1234)\n"
   ]
  },
  {
   "cell_type": "code",
   "execution_count": 2,
   "metadata": {
    "id": "tlCKQcc47lZb"
   },
   "outputs": [],
   "source": [
    "pd.set_option('display.max_rows', 1000)\n",
    "pd.set_option('display.max_columns', 1000)"
   ]
  },
  {
   "cell_type": "markdown",
   "metadata": {},
   "source": [
    "#CPUとGPU両方使えるように"
   ]
  },
  {
   "cell_type": "code",
   "execution_count": 3,
   "metadata": {},
   "outputs": [],
   "source": [
    "device = torch.device('cuda:0' if torch.cuda.is_available() else 'cpu')"
   ]
  },
  {
   "cell_type": "markdown",
   "metadata": {
    "id": "mYhgTzkHFUSe"
   },
   "source": [
    "## データセットを作る\n",
    "まずコードが動くかどうか確認したいので、100個ぐらいでOK"
   ]
  },
  {
   "cell_type": "markdown",
   "metadata": {},
   "source": [
    "# 一様分布のモデル"
   ]
  },
  {
   "cell_type": "code",
   "execution_count": 4,
   "metadata": {},
   "outputs": [],
   "source": [
    "def simulate_Unifrom(n = 100, a = 0, b = 100, fig_mode = False):\n",
    "    # 一様分布に従う確率変数を生成\n",
    "    X = np.random.uniform(a, b, n)\n",
    "    \n",
    "    data_array = np.array([X]).T\n",
    "    df = data_array\n",
    "    #df = pd.DataFrame(data_array, columns = ['process'])\n",
    "    \n",
    "    if fig_mode:\n",
    "        fig, ax = plt.subplots()\n",
    "\n",
    "        # plot the process X and volatility sigma\n",
    "        ax.plot(X, label = 'process')\n",
    "        ax.set_ylabel('process X')\n",
    "\n",
    "        # 以下はそんなに関係ないから気にしなくていい．\n",
    "        plt.gca().spines['right'].set_visible(False)\n",
    "        plt.gca().spines['top'].set_visible(False)\n",
    "        plt.gca().yaxis.set_ticks_position('left')\n",
    "        plt.gca().xaxis.set_ticks_position('bottom')\n",
    "\n",
    "        plt.legend()\n",
    "    \n",
    "    return df"
   ]
  },
  {
   "cell_type": "markdown",
   "metadata": {
    "id": "JO_c7LWApe5X"
   },
   "source": [
    "# ハイパーパラメータの設定"
   ]
  },
  {
   "cell_type": "code",
   "execution_count": 5,
   "metadata": {
    "id": "OQZlMojopyzp"
   },
   "outputs": [],
   "source": [
    "#partitionの数\n",
    "n = 20000\n",
    "#満期\n",
    "T = 1 \n",
    "#リスクフリーレート\n",
    "r = 0.001\n",
    "#行使価格\n",
    "K = 0.2"
   ]
  },
  {
   "cell_type": "code",
   "execution_count": 6,
   "metadata": {
    "id": "EKAc8rsjqgpB"
   },
   "outputs": [],
   "source": [
    "#初期値の設定\n",
    "#要らないかも\n",
    "X_0 = 1\n",
    "mu = 0\n",
    "sigma = 1"
   ]
  },
  {
   "cell_type": "markdown",
   "metadata": {
    "id": "QTxsoHTGrsih"
   },
   "source": [
    "#データの作成"
   ]
  },
  {
   "cell_type": "code",
   "execution_count": 7,
   "metadata": {},
   "outputs": [],
   "source": [
    "#一様分布のパラメータ\n",
    "a = 0\n",
    "b = 1"
   ]
  },
  {
   "cell_type": "markdown",
   "metadata": {
    "id": "xnAZ5w232bB-"
   },
   "source": [
    "#DATAs = []\n",
    "DATAs_t = []\n",
    "for _ in range(N):\n",
    "    df_path = simulate_Unifrom(n = n, a = a, b = b, fig_mode = False)\n",
    "    X = df_path[\"process\"].values\n",
    "    DATAs.append(df_path.values)\n",
    "    Phi_data = []\n",
    "    for x in df_path[\"process\"]:\n",
    "        Phi_x = max( (x - K) , 0)\n",
    "        Phi_data.append(Phi_x)\n",
    "    DATAs_t.append(Phi_data)\n",
    "DATAs = np.array(DATAs)\n",
    "DATAs_t = np.array(DATAs_t)\n",
    "#Phiの取り方がまだいまいちよく分からん　一旦放置"
   ]
  },
  {
   "cell_type": "code",
   "execution_count": 8,
   "metadata": {},
   "outputs": [],
   "source": [
    "DATAs = simulate_Unifrom(n = n, a = a, b = b, fig_mode = False)"
   ]
  },
  {
   "cell_type": "code",
   "execution_count": 9,
   "metadata": {},
   "outputs": [],
   "source": [
    "def datagenerator(n = 100000, a = 0, b = 1, batch_size = 100):\n",
    "    X = simulate_Unifrom(n = n, a = a, b = b, fig_mode = False)\n",
    "    y = [[float(max(x - K, 0))] for x in X]\n",
    "    X = torch.tensor(X, dtype = torch.float32)\n",
    "    y = torch.tensor(y)\n",
    "    dataset = torch.utils.data.TensorDataset(X, y)\n",
    "    dataloader = torch.utils.data.DataLoader(dataset, batch_size = batch_size, shuffle = True)\n",
    "    return dataloader"
   ]
  },
  {
   "cell_type": "markdown",
   "metadata": {
    "id": "I38TOZD3Fq2r"
   },
   "source": [
    "## ニューラルネットワーク層を作る\n",
    "まずは1層か2層でOK"
   ]
  },
  {
   "cell_type": "markdown",
   "metadata": {
    "id": "4MrgH0p09Umw"
   },
   "source": [
    "#モデルの作成"
   ]
  },
  {
   "cell_type": "code",
   "execution_count": 10,
   "metadata": {
    "id": "PZbEy2JI9XU7"
   },
   "outputs": [],
   "source": [
    "class NeuralNetwork(nn.Module):\n",
    "    def __init__(self):\n",
    "        super(NeuralNetwork, self).__init__()\n",
    "        self.fc1 = nn.Linear( 1, 128 )\n",
    "        self.fc2 = nn.Linear( 128, 256 )\n",
    "        self.fc3 = nn.Linear( 256, 128 )\n",
    "        self.fc4 = nn.Linear( 128, 64 )\n",
    "        self.fc5 = nn.Linear( 64, 1 )\n",
    "\n",
    "    def forward(self, x):\n",
    "        # フォワードパスを定義\n",
    "        x = F.relu(self.fc1(x))\n",
    "        x = F.relu(self.fc2(x))\n",
    "        x = F.relu(self.fc3(x))\n",
    "        x = F.relu(self.fc4(x))\n",
    "        x = self.fc5(x)\n",
    "        return x"
   ]
  },
  {
   "cell_type": "code",
   "execution_count": 11,
   "metadata": {
    "id": "arxTz8uI_agB"
   },
   "outputs": [],
   "source": [
    "# モデル（NeuralNetworkクラス）のインスタンス化\n",
    "model = NeuralNetwork()"
   ]
  },
  {
   "cell_type": "markdown",
   "metadata": {
    "id": "TvBLDYztOBPm"
   },
   "source": [
    "## 誤差関数を定義"
   ]
  },
  {
   "cell_type": "markdown",
   "metadata": {
    "id": "q0nOo81pOQjq"
   },
   "source": [
    "最小化したいのは、\n",
    "$ \\int (|\\Phi(x)-u(x)|^2) + u'(x))dx$"
   ]
  },
  {
   "cell_type": "markdown",
   "metadata": {},
   "source": [
    "今は一様分布で、上の期待値をモンテカルロで数値計算して考える"
   ]
  },
  {
   "cell_type": "code",
   "execution_count": 12,
   "metadata": {
    "id": "CNgv3n3gk3Yk"
   },
   "outputs": [],
   "source": [
    "class CustomLoss(nn.Module):\n",
    "    def __init__(self):\n",
    "        super().__init__()\n",
    "\n",
    "    def forward(self, output, target):\n",
    "        loss = nn.MSELoss()(output, target)\n",
    "        return loss"
   ]
  },
  {
   "cell_type": "code",
   "execution_count": 13,
   "metadata": {
    "id": "rhmzUrSeqv7A"
   },
   "outputs": [],
   "source": [
    "criterion = CustomLoss()"
   ]
  },
  {
   "cell_type": "markdown",
   "metadata": {
    "id": "tyeB0yyotPhv"
   },
   "source": [
    "#最適化"
   ]
  },
  {
   "cell_type": "code",
   "execution_count": 14,
   "metadata": {
    "id": "_eYP88ATubPu"
   },
   "outputs": [],
   "source": [
    "optimizer = optim.SGD(model.parameters(), lr = 0.001)"
   ]
  },
  {
   "cell_type": "markdown",
   "metadata": {},
   "source": [
    "#データ"
   ]
  },
  {
   "cell_type": "code",
   "execution_count": 15,
   "metadata": {},
   "outputs": [],
   "source": [
    "traindata  = datagenerator(n, a, b)"
   ]
  },
  {
   "cell_type": "markdown",
   "metadata": {
    "id": "qw_-sGtfuyQB"
   },
   "source": [
    "#学習"
   ]
  },
  {
   "cell_type": "code",
   "execution_count": 16,
   "metadata": {
    "id": "w7tuXwgTu1gH"
   },
   "outputs": [],
   "source": [
    "epochs = 100"
   ]
  },
  {
   "cell_type": "code",
   "execution_count": 17,
   "metadata": {},
   "outputs": [],
   "source": [
    "model = model.to(device)"
   ]
  },
  {
   "cell_type": "code",
   "execution_count": 18,
   "metadata": {
    "id": "uRy9aKf2vCTW"
   },
   "outputs": [
    {
     "name": "stdout",
     "output_type": "stream",
     "text": [
      "tensor(0.0620, grad_fn=<MseLossBackward>)\n",
      "tensor(3.6840e-05, grad_fn=<MseLossBackward>)\n"
     ]
    }
   ],
   "source": [
    "for epoch in range(epochs):\n",
    "    loss = 0\n",
    "    for inputs, target in traindata:\n",
    "        optimizer.zero_grad()\n",
    "        output = model(inputs)\n",
    "        loss = criterion(output, target)\n",
    "        loss.backward()\n",
    "        optimizer.step()\n",
    "    if epoch%50 == 0:\n",
    "        print(loss)"
   ]
  },
  {
   "cell_type": "markdown",
   "metadata": {},
   "source": [
    "#テスト(誤差を見る)"
   ]
  },
  {
   "cell_type": "code",
   "execution_count": 19,
   "metadata": {
    "colab": {
     "base_uri": "https://localhost:8080/"
    },
    "id": "-S5xKCYB3M2R",
    "outputId": "e5634c91-0a52-457d-d303-d7b24d23267a"
   },
   "outputs": [],
   "source": [
    "DATA_test = torch.Tensor(simulate_Unifrom(n = 10, a = a, b = b, fig_mode = False))"
   ]
  },
  {
   "cell_type": "code",
   "execution_count": 20,
   "metadata": {},
   "outputs": [
    {
     "data": {
      "text/plain": [
       "tensor([[0.6511],\n",
       "        [0.2012],\n",
       "        [0.4854],\n",
       "        [0.3946],\n",
       "        [0.0295],\n",
       "        [0.9199],\n",
       "        [0.9082],\n",
       "        [0.6576],\n",
       "        [0.9152],\n",
       "        [0.3336]])"
      ]
     },
     "execution_count": 20,
     "metadata": {},
     "output_type": "execute_result"
    }
   ],
   "source": [
    "DATA_test"
   ]
  },
  {
   "cell_type": "code",
   "execution_count": 21,
   "metadata": {},
   "outputs": [
    {
     "data": {
      "text/plain": [
       "tensor([[ 0.4546],\n",
       "        [ 0.0174],\n",
       "        [ 0.2832],\n",
       "        [ 0.1914],\n",
       "        [-0.0094],\n",
       "        [ 0.7165],\n",
       "        [ 0.7058],\n",
       "        [ 0.4612],\n",
       "        [ 0.7122],\n",
       "        [ 0.1305]], grad_fn=<AddmmBackward>)"
      ]
     },
     "execution_count": 21,
     "metadata": {},
     "output_type": "execute_result"
    }
   ],
   "source": [
    "model(DATA_test)"
   ]
  },
  {
   "cell_type": "code",
   "execution_count": 25,
   "metadata": {},
   "outputs": [
    {
     "data": {
      "text/plain": [
       "tensor([[0.4511],\n",
       "        [0.0012],\n",
       "        [0.2854],\n",
       "        [0.1946],\n",
       "        [0.0000],\n",
       "        [0.7199],\n",
       "        [0.7082],\n",
       "        [0.4576],\n",
       "        [0.7152],\n",
       "        [0.1336]])"
      ]
     },
     "execution_count": 25,
     "metadata": {},
     "output_type": "execute_result"
    }
   ],
   "source": [
    "torch.tensor([[float(max(x - K, 0))] for x in DATA_test])"
   ]
  },
  {
   "cell_type": "markdown",
   "metadata": {},
   "source": [
    "$\\Phi(x) = (x -K)^+$"
   ]
  },
  {
   "cell_type": "code",
   "execution_count": null,
   "metadata": {},
   "outputs": [],
   "source": [
    "loss_fn = CustomLoss( )"
   ]
  },
  {
   "cell_type": "code",
   "execution_count": null,
   "metadata": {},
   "outputs": [],
   "source": [
    "loss_fn(model(DATA_test), torch.Tensor(teacher1_data( DATA_test )), DATA_test)"
   ]
  },
  {
   "cell_type": "markdown",
   "metadata": {
    "id": "2EaqVjk1VM6d"
   },
   "source": [
    "# メモ"
   ]
  }
 ],
 "metadata": {
  "colab": {
   "collapsed_sections": [
    "2EaqVjk1VM6d"
   ],
   "name": "sss21moritoki",
   "provenance": []
  },
  "kernelspec": {
   "display_name": "Python 3",
   "language": "python",
   "name": "python3"
  },
  "language_info": {
   "codemirror_mode": {
    "name": "ipython",
    "version": 3
   },
   "file_extension": ".py",
   "mimetype": "text/x-python",
   "name": "python",
   "nbconvert_exporter": "python",
   "pygments_lexer": "ipython3",
   "version": "3.7.5"
  }
 },
 "nbformat": 4,
 "nbformat_minor": 1
}
