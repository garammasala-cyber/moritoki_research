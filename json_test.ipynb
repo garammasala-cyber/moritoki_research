{
 "cells": [
  {
   "cell_type": "code",
   "execution_count": 1,
   "metadata": {},
   "outputs": [],
   "source": [
    "import json\n",
    "with open('parameter.json') as p:\n",
    "    parameter = json.load(p)"
   ]
  },
  {
   "cell_type": "code",
   "execution_count": 2,
   "metadata": {},
   "outputs": [
    {
     "name": "stdout",
     "output_type": "stream",
     "text": [
      "{'DeepLearning': {'num_epoch': 100, 'num_data': 1000, 'num_testdata': 200, 'num_partition': 100, 'learning_rate': 0.01}, 'Option': {'Strike_price': 0.2}, 'Hyperparameter': {'epsilon': 0.1}, 'OU_Process': {'num_path': 3, 'expiration': 1, 'alpha': 1.2, 'mu': 0, 'sigma': 2.3, 'x_0': 0}}\n"
     ]
    }
   ],
   "source": [
    "print(parameter)"
   ]
  },
  {
   "cell_type": "code",
   "execution_count": 3,
   "metadata": {},
   "outputs": [
    {
     "data": {
      "text/plain": [
       "0"
      ]
     },
     "execution_count": 3,
     "metadata": {},
     "output_type": "execute_result"
    }
   ],
   "source": [
    "parameter[\"OU_Process\"][\"x_0\"]"
   ]
  }
 ],
 "metadata": {
  "kernelspec": {
   "display_name": "Python 3.10.5 64-bit ('3.10.5')",
   "language": "python",
   "name": "python3"
  },
  "language_info": {
   "codemirror_mode": {
    "name": "ipython",
    "version": 3
   },
   "file_extension": ".py",
   "mimetype": "text/x-python",
   "name": "python",
   "nbconvert_exporter": "python",
   "pygments_lexer": "ipython3",
   "version": "3.10.5"
  },
  "orig_nbformat": 4,
  "vscode": {
   "interpreter": {
    "hash": "55db80e6a08fa59d69a0a3d9d8332389981cf95fb3d5a21c471f63190e7c51de"
   }
  }
 },
 "nbformat": 4,
 "nbformat_minor": 2
}
